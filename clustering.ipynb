{
 "cells": [
  {
   "cell_type": "code",
   "execution_count": null,
   "metadata": {},
   "outputs": [],
   "source": [
    "import pandas as pd\n",
    "import numpy as np\n",
    "import datetime\n",
    "import socket\n",
    "import struct\n",
    "import matplotlib.pyplot as plt\n",
    "pd.options.mode.chained_assignment = None  # default='warn'\n"
   ]
  },
  {
   "cell_type": "code",
   "execution_count": 2,
   "metadata": {},
   "outputs": [
    {
     "name": "stderr",
     "output_type": "stream",
     "text": [
      "C:\\Users\\VRUma\\anaconda3\\lib\\site-packages\\IPython\\core\\interactiveshell.py:3071: DtypeWarning: Columns (10,16,22,23) have mixed types.Specify dtype option on import or set low_memory=False.\n",
      "  has_raised = await self.run_ast_nodes(code_ast.body, cell_name,\n"
     ]
    }
   ],
   "source": [
    "headerString = \"date time time-taken c-ip cs-username cs-auth-group x-exception-id sc-filter-result cs-categories cs(Referer) sc-status s-action cs-method rs(Content-Type) cs-uri-scheme cs-host cs-uri-port cs-uri-path cs-uri-query cs-uri-extension cs(User-Agent) s-ip sc-bytes cs-bytes x-virus-id\"\n",
    "header=headerString.split(\" \")\n",
    "a = pd.read_csv('./Data/message.txt', delimiter=\"\\s+\", index_col=False, encoding=\"utf-8\", comment='#',names=header)\n"
   ]
  },
  {
   "cell_type": "code",
   "execution_count": 3,
   "metadata": {},
   "outputs": [],
   "source": [
    "#drop columns : cs-unsername cs-auth-group  (date prob)\n",
    "df1 = a.sample(frac=0.5,random_state=200) \n",
    "df2 =df1.sample(frac=0.5,random_state=200)\n",
    "\n",
    "df1=df1.drop(columns=['cs-username','cs-auth-group','date',\n",
    "                      'time-taken','cs-method',\n",
    "                      'rs(Content-Type)','cs-uri-path',\n",
    "                      'cs-uri-query','cs-uri-extension','cs(User-Agent)','s-ip','x-virus-id'])\n"
   ]
  },
  {
   "cell_type": "code",
   "execution_count": 4,
   "metadata": {},
   "outputs": [],
   "source": [
    "\n",
    "def preprocessing(data):\n",
    "    data=data.dropna()\n",
    "    data.loc[data['x-exception-id'] == '-', 'x-exception-id'] = \"\"\n",
    "\n",
    "    return data\n"
   ]
  },
  {
   "cell_type": "code",
   "execution_count": 5,
   "metadata": {},
   "outputs": [],
   "source": [
    "def compute_similarity(string1,stand_val):\n",
    "    indexes=np.where(string1==stand_val)\n",
    "    return indexes[0]\n",
    "\n",
    "\n",
    "def apply_sim(data,column_name,one_line_df,new_col_name):\n",
    "    if column_name not in data.columns:\n",
    "        print(\"Wrong column name\")\n",
    "        return 0\n",
    "    else :\n",
    "        list_indexes=compute_similarity(data[column_name].values,one_line_df[column_name].values[0])\n",
    "        data[new_col_name]=data.index.isin(list_indexes)\n",
    "        data[new_col_name]=data[new_col_name].astype(int)\n",
    "    return data\n"
   ]
  },
  {
   "cell_type": "code",
   "execution_count": 6,
   "metadata": {},
   "outputs": [],
   "source": [
    "def compute_all_sims(data,y):\n",
    "    all_cols=['x-exception-id','cs-categories',\n",
    " 'sc-status','s-action','cs-uri-scheme','cs-uri-port']\n",
    "    all_cols\n",
    "    for col in all_cols:\n",
    "        apply_sim(data,col,y,'sim')\n",
    "        if 'final_sim' not in data.columns :\n",
    "            data['final_sim'] = data['sim']\n",
    "        else :\n",
    "            data['final_sim']= data['final_sim'] + data['sim']\n",
    "    return data\n"
   ]
  },
  {
   "cell_type": "code",
   "execution_count": 7,
   "metadata": {},
   "outputs": [],
   "source": [
    "def add_urlsize(data):\n",
    "    data[\"url_size\"] = data[\"cs(Referer)\"].apply(lambda x: len(str(x)))\n",
    "    return data\n",
    "\n",
    "def add_hostfreq(data):\n",
    "    cs_host_frequency = data.groupby(['cs-host']).count().sort_values(by=[\"url_size\"],ascending=False)\n",
    "    most_frequent = cs_host_frequency.index.tolist()\n",
    "    quantity = cs_host_frequency['s-action'].tolist()\n",
    "    frequent_host_dict = dict(zip(most_frequent, quantity))\n",
    "    data[\"cs-host-frequency\"] = data[\"cs-host\"].apply(lambda x: frequent_host_dict.get(x))\n",
    "    return data\n",
    "\n",
    "\n",
    "\n",
    "\n"
   ]
  },
  {
   "cell_type": "code",
   "execution_count": null,
   "metadata": {},
   "outputs": [],
   "source": [
    "def normalization(data):\n",
    "    df4=data.copy()\n",
    "    df4['final_sim']=(df4['final_sim']-df4['final_sim'].mean())/df4['final_sim'].std()\n",
    "    #df4 = df4.drop([283551], axis=0)\n",
    "    df4['sc-bytes'] = pd.to_numeric(df4['sc-bytes'])\n",
    "    df4['cs-bytes'] = pd.to_numeric(df4['cs-bytes'])\n",
    "    df4['sc-bytes']=(df4['sc-bytes']-df4['sc-bytes'].mean())/df4['sc-bytes'].std()\n",
    "    df4['cs-bytes']=(df4['cs-bytes']-df4['cs-bytes'].mean())/df4['cs-bytes'].std()\n",
    "    df4['url_size'] =(df4['url_size']-df4['url_size'].mean())/df4['url_size'].std()\n",
    "    df4['cs-host-frequency'] = (df4['cs-host-frequency']-df4['cs-host-frequency'].mean())/df4['cs-host-frequency'].std()\n",
    "    return df4\n",
    "\n",
    "\n",
    "def normalization2(data):\n",
    "    df4=data.copy()\n",
    "    df4['final_sim']=(df4['final_sim']-df4['final_sim'].min())/(df4['final_sim'].max() -df4['final_sim'].min()) \n",
    "    #df4 = df4.drop([283551], axis=0)\n",
    "    df4['sc-bytes'] = pd.to_numeric(df4['sc-bytes'])\n",
    "    df4['cs-bytes'] = pd.to_numeric(df4['cs-bytes'])\n",
    "    df4['sc-bytes']=(df4['sc-bytes']-df4['sc-bytes'].min())/(df4['sc-bytes'].max() -df4['sc-bytes'].min()) \n",
    "    df4['cs-bytes']=(df4['cs-bytes']-df4['cs-bytes'].min())/(df4['cs-bytes'].max() -df4['cs-bytes'].min()) \n",
    "    return df4\n",
    "\n",
    "\n",
    "\n",
    "\n",
    "def make_dummies(data, string):\n",
    "    data= pd.concat([data,pd.get_dummies(data[string], prefix=string)],axis=1)\n",
    "    data.drop([string], axis=1, inplace=True)\n",
    "    return data\n",
    "\n"
   ]
  },
  {
   "cell_type": "code",
   "execution_count": null,
   "metadata": {},
   "outputs": [],
   "source": [
    "\n",
    "y=df1.tail(1)\n",
    "y\n",
    "df3=df1.sample(frac=0.4,random_state=2000)\n",
    "df3=df3.reset_index(drop=True)\n",
    "df3=preprocessing(df3)\n",
    "df3=make_dummies(df3,'sc-filter-result')\n",
    "df3"
   ]
  },
  {
   "cell_type": "code",
   "execution_count": null,
   "metadata": {},
   "outputs": [],
   "source": [
    "compute_all_sims(df3,y)\n",
    "df3=add_urlsize(df3)\n",
    "df3=add_hostfreq(df3)\n",
    "dfn=normalization(df3)\n",
    "dfn1=dfn.sample(frac=0.5,random_state=1337)"
   ]
  },
  {
   "cell_type": "code",
   "execution_count": null,
   "metadata": {},
   "outputs": [],
   "source": [
    "from sklearn.cluster import DBSCAN\n",
    "\n",
    "#dfn=dfn.dropna()\n",
    "clusters = DBSCAN(eps = 0.7, min_samples=100)\n",
    "clusters.fit(dfn1[['cs-bytes','sc-bytes','url_size','cs-host-frequency','sc-filter-result_DENIED','sc-filter-result_OBSERVED','sc-filter-result_PROXIED']])\n",
    "dfn1['labels'] = [str(e) for e in clusters.labels_]\n",
    "\n",
    "dfn1"
   ]
  },
  {
   "cell_type": "code",
   "execution_count": null,
   "metadata": {},
   "outputs": [],
   "source": [
    "dfn1.groupby('labels').count()"
   ]
  },
  {
   "cell_type": "code",
   "execution_count": null,
   "metadata": {},
   "outputs": [],
   "source": [
    "dfn1.loc[dfn1['labels']==\"-1\"]"
   ]
  },
  {
   "cell_type": "code",
   "execution_count": null,
   "metadata": {},
   "outputs": [],
   "source": [
    "\n",
    "dfn2=dfn1.loc[dfn1['cs-bytes']<1]\n",
    "plt.scatter(dfn2['final_sim'],dfn2['cs-bytes'])"
   ]
  },
  {
   "cell_type": "code",
   "execution_count": null,
   "metadata": {},
   "outputs": [],
   "source": [
    "dfn2=dfn2.loc[dfn2['sc-bytes']<1]\n",
    "\n",
    "plt.scatter(dfn2['final_sim'],dfn2['sc-bytes'])"
   ]
  },
  {
   "cell_type": "code",
   "execution_count": null,
   "metadata": {},
   "outputs": [],
   "source": []
  }
 ],
 "metadata": {
  "kernelspec": {
   "display_name": "Python 3",
   "language": "python",
   "name": "python3"
  },
  "language_info": {
   "codemirror_mode": {
    "name": "ipython",
    "version": 3
   },
   "file_extension": ".py",
   "mimetype": "text/x-python",
   "name": "python",
   "nbconvert_exporter": "python",
   "pygments_lexer": "ipython3",
   "version": "3.8.3"
  }
 },
 "nbformat": 4,
 "nbformat_minor": 4
}
